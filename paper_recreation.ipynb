{
 "cells": [
  {
   "cell_type": "code",
   "execution_count": 1,
   "metadata": {},
   "outputs": [
    {
     "name": "stderr",
     "output_type": "stream",
     "text": [
      "c:\\ProgramData\\anaconda3\\Lib\\site-packages\\sentence_transformers\\cross_encoder\\CrossEncoder.py:13: TqdmExperimentalWarning: Using `tqdm.autonotebook.tqdm` in notebook mode. Use `tqdm.tqdm` instead to force console mode (e.g. in jupyter console)\n",
      "  from tqdm.autonotebook import tqdm, trange\n"
     ]
    }
   ],
   "source": [
    "import torch\n",
    "import torch.nn as nn\n",
    "import torch.optim as optim\n",
    "from sklearn.model_selection import KFold\n",
    "from sklearn.metrics import mean_squared_error\n",
    "import numpy as np\n",
    "import pandas as pd\n",
    "from tqdm import tqdm\n",
    "from sentence_transformers import SentenceTransformer"
   ]
  },
  {
   "cell_type": "code",
   "execution_count": 2,
   "metadata": {},
   "outputs": [],
   "source": [
    "class LassoMLP(nn.Module):\n",
    "    def __init__(self, input_dim, hidden_dim, output_dim=1):\n",
    "        super(LassoMLP, self).__init__()\n",
    "        \n",
    "        self.beta = nn.Parameter(torch.ones(input_dim))\n",
    "        \n",
    "        self.layer1 = nn.Linear(input_dim, hidden_dim)\n",
    "        self.layer2 = nn.Linear(hidden_dim, hidden_dim)\n",
    "        self.output_layer = nn.Linear(hidden_dim, output_dim)\n",
    "        \n",
    "        self.tanh = nn.Tanh()\n",
    "        \n",
    "    def forward(self, x):\n",
    "        x = self.tanh(self.layer1(x))\n",
    "        x = self.tanh(self.layer2(x))\n",
    "        x = self.tanh(self.output_layer(x))\n",
    "        return x"
   ]
  },
  {
   "cell_type": "code",
   "execution_count": 3,
   "metadata": {},
   "outputs": [],
   "source": [
    "# Step 1: Define function to train or retrain the neural network\n",
    "def train_network(model, X_train, y_train, lambda_, num_epochs=100, learning_rate=0.01):\n",
    "    optimizer = optim.Adam(model.parameters(), lr=0.01)\n",
    "    criterion = nn.MSELoss()\n",
    "\n",
    "    for epoch in range(num_epochs):\n",
    "        model.train()\n",
    "        optimizer.zero_grad()\n",
    "\n",
    "        predictions = model(X_train)\n",
    "        loss = criterion(predictions.squeeze(), y_train)\n",
    "        \n",
    "        l1_norm = sum(p.abs().sum() for p in model.parameters())\n",
    "        loss += lambda_ * l1_norm\n",
    "\n",
    "        loss.backward()\n",
    "        optimizer.step()\n",
    "        \n",
    "        if (epoch + 1) % 10 == 0:\n",
    "            print(f\"Epoch [{epoch + 1}/{num_epochs}], Loss: {loss.item():.4f}\")\n",
    "\n",
    "    return model"
   ]
  },
  {
   "cell_type": "code",
   "execution_count": 4,
   "metadata": {},
   "outputs": [],
   "source": [
    "# Step 3: Use K-fold cross-validation to find the optimal lambda\n",
    "def select_lambda(X, y, lambdas, k_folds=5):\n",
    "    kf = KFold(n_splits=k_folds)\n",
    "    best_lambda = None\n",
    "    best_score = float('inf')\n",
    "\n",
    "    for lambda_ in lambdas:\n",
    "        print(f\"Testing lambda = {lambda_}\")\n",
    "        scores = []\n",
    "\n",
    "        for train_idx, val_idx in kf.split(X):\n",
    "            model = LassoMLP(input_dim=X.shape[1], hidden_dim=64, output_dim=1)\n",
    "            X_train, X_val = X[train_idx], X[val_idx]\n",
    "            y_train, y_val = y[train_idx], y[val_idx]\n",
    "\n",
    "            trained_model = train_network(model, X_train, y_train, lambda_)\n",
    "            model.eval()\n",
    "            with torch.no_grad():\n",
    "                predictions = trained_model(X_val)\n",
    "                val_loss = mean_squared_error(y_val.numpy(), predictions.numpy())\n",
    "                scores.append(val_loss)\n",
    "                print(scores)\n",
    "\n",
    "        avg_score = np.mean(scores)\n",
    "        if avg_score < best_score:\n",
    "            best_score = avg_score\n",
    "            best_lambda = lambda_\n",
    "\n",
    "    return best_lambda"
   ]
  },
  {
   "cell_type": "code",
   "execution_count": 10,
   "metadata": {},
   "outputs": [],
   "source": [
    "# Step 4-5: Iteratively prune features with zero β\n",
    "def lasso_mlp_algorithm(X, y, output_dim, hidden_dim=64, num_epochs=100, learning_rate=0.001, lambdas=[0.1, 1, 10]):\n",
    "    input_dim = X.shape[1]\n",
    "    output_dim = input_dim\n",
    "    termination = False\n",
    "    lambdas = np.arange(0, 1.01, 0.1)\n",
    "    lambdas = np.append(lambdas, 100)\n",
    "\n",
    "    c = 0\n",
    "    while not termination:\n",
    "        print(f\"Iteration {c + 1}:\")\n",
    "        model = LassoMLP(input_dim=input_dim, hidden_dim=hidden_dim, output_dim=output_dim)\n",
    "\n",
    "        best_lambda = select_lambda(X, y, lambdas)\n",
    "        print(f\"Optimal lambda: {best_lambda}\")\n",
    "\n",
    "        trained_model = train_network(model, X, y, best_lambda, num_epochs=num_epochs, learning_rate=learning_rate)\n",
    "\n",
    "        beta_estimates = model.beta.detach().cpu().numpy()\n",
    "        \n",
    "        non_zero_beta = beta_estimates != 0\n",
    "        if np.sum(non_zero_beta) == input_dim:\n",
    "            termination = True\n",
    "        else:\n",
    "            X = X[:, non_zero_beta]\n",
    "            input_dim = X.shape[1]\n",
    "            c += 1\n",
    "\n",
    "    return trained_model, beta_estimates"
   ]
  },
  {
   "cell_type": "code",
   "execution_count": 6,
   "metadata": {},
   "outputs": [
    {
     "data": {
      "text/html": [
       "<div>\n",
       "<style scoped>\n",
       "    .dataframe tbody tr th:only-of-type {\n",
       "        vertical-align: middle;\n",
       "    }\n",
       "\n",
       "    .dataframe tbody tr th {\n",
       "        vertical-align: top;\n",
       "    }\n",
       "\n",
       "    .dataframe thead th {\n",
       "        text-align: right;\n",
       "    }\n",
       "</style>\n",
       "<table border=\"1\" class=\"dataframe\">\n",
       "  <thead>\n",
       "    <tr style=\"text-align: right;\">\n",
       "      <th></th>\n",
       "      <th>0</th>\n",
       "      <th>1</th>\n",
       "      <th>2</th>\n",
       "      <th>3</th>\n",
       "      <th>4</th>\n",
       "      <th>5</th>\n",
       "      <th>6</th>\n",
       "      <th>7</th>\n",
       "      <th>8</th>\n",
       "      <th>9</th>\n",
       "      <th>...</th>\n",
       "      <th>23</th>\n",
       "      <th>24</th>\n",
       "      <th>25</th>\n",
       "      <th>26</th>\n",
       "      <th>27</th>\n",
       "      <th>28</th>\n",
       "      <th>29</th>\n",
       "      <th>30</th>\n",
       "      <th>31</th>\n",
       "      <th>32</th>\n",
       "    </tr>\n",
       "  </thead>\n",
       "  <tbody>\n",
       "    <tr>\n",
       "      <th>0</th>\n",
       "      <td>0.736460</td>\n",
       "      <td>-1.761829</td>\n",
       "      <td>1.590594</td>\n",
       "      <td>-0.268853</td>\n",
       "      <td>0.572145</td>\n",
       "      <td>-1.941886</td>\n",
       "      <td>0.727704</td>\n",
       "      <td>1.869884</td>\n",
       "      <td>0.224501</td>\n",
       "      <td>-1.442215</td>\n",
       "      <td>...</td>\n",
       "      <td>2.220872</td>\n",
       "      <td>2.440442</td>\n",
       "      <td>0.510303</td>\n",
       "      <td>1.157391</td>\n",
       "      <td>0.265448</td>\n",
       "      <td>1.141465</td>\n",
       "      <td>0.356314</td>\n",
       "      <td>0.568853</td>\n",
       "      <td>1.954376</td>\n",
       "      <td>0.052627</td>\n",
       "    </tr>\n",
       "    <tr>\n",
       "      <th>1</th>\n",
       "      <td>-0.389711</td>\n",
       "      <td>0.342256</td>\n",
       "      <td>-1.522463</td>\n",
       "      <td>0.237098</td>\n",
       "      <td>-1.771509</td>\n",
       "      <td>-0.885488</td>\n",
       "      <td>-0.679111</td>\n",
       "      <td>-0.410219</td>\n",
       "      <td>-0.331288</td>\n",
       "      <td>2.092878</td>\n",
       "      <td>...</td>\n",
       "      <td>1.580327</td>\n",
       "      <td>0.809171</td>\n",
       "      <td>2.235141</td>\n",
       "      <td>1.517466</td>\n",
       "      <td>1.795334</td>\n",
       "      <td>0.929355</td>\n",
       "      <td>1.663727</td>\n",
       "      <td>0.754457</td>\n",
       "      <td>0.650492</td>\n",
       "      <td>0.001308</td>\n",
       "    </tr>\n",
       "    <tr>\n",
       "      <th>2</th>\n",
       "      <td>-0.269351</td>\n",
       "      <td>1.622452</td>\n",
       "      <td>-2.047811</td>\n",
       "      <td>1.720603</td>\n",
       "      <td>-1.749964</td>\n",
       "      <td>-1.618348</td>\n",
       "      <td>0.327188</td>\n",
       "      <td>-0.317671</td>\n",
       "      <td>0.046938</td>\n",
       "      <td>1.911881</td>\n",
       "      <td>...</td>\n",
       "      <td>1.723625</td>\n",
       "      <td>1.718983</td>\n",
       "      <td>2.438604</td>\n",
       "      <td>1.113059</td>\n",
       "      <td>2.180270</td>\n",
       "      <td>1.794781</td>\n",
       "      <td>0.627965</td>\n",
       "      <td>0.961728</td>\n",
       "      <td>1.258398</td>\n",
       "      <td>0.003834</td>\n",
       "    </tr>\n",
       "    <tr>\n",
       "      <th>3</th>\n",
       "      <td>0.256840</td>\n",
       "      <td>0.165040</td>\n",
       "      <td>-1.776401</td>\n",
       "      <td>1.723357</td>\n",
       "      <td>2.117348</td>\n",
       "      <td>-1.692605</td>\n",
       "      <td>1.077334</td>\n",
       "      <td>1.761624</td>\n",
       "      <td>-0.333281</td>\n",
       "      <td>1.573860</td>\n",
       "      <td>...</td>\n",
       "      <td>1.369922</td>\n",
       "      <td>1.528851</td>\n",
       "      <td>1.901706</td>\n",
       "      <td>2.222391</td>\n",
       "      <td>0.968513</td>\n",
       "      <td>0.546513</td>\n",
       "      <td>2.236340</td>\n",
       "      <td>1.412382</td>\n",
       "      <td>1.898374</td>\n",
       "      <td>-0.002010</td>\n",
       "    </tr>\n",
       "    <tr>\n",
       "      <th>4</th>\n",
       "      <td>0.968270</td>\n",
       "      <td>1.834561</td>\n",
       "      <td>0.299747</td>\n",
       "      <td>0.308144</td>\n",
       "      <td>0.064617</td>\n",
       "      <td>2.174855</td>\n",
       "      <td>-1.213028</td>\n",
       "      <td>-1.563548</td>\n",
       "      <td>-2.277270</td>\n",
       "      <td>-0.059009</td>\n",
       "      <td>...</td>\n",
       "      <td>1.171433</td>\n",
       "      <td>2.273871</td>\n",
       "      <td>2.199479</td>\n",
       "      <td>0.646400</td>\n",
       "      <td>0.302676</td>\n",
       "      <td>1.323917</td>\n",
       "      <td>2.324899</td>\n",
       "      <td>0.334220</td>\n",
       "      <td>0.491228</td>\n",
       "      <td>0.015778</td>\n",
       "    </tr>\n",
       "  </tbody>\n",
       "</table>\n",
       "<p>5 rows × 33 columns</p>\n",
       "</div>"
      ],
      "text/plain": [
       "         0         1         2         3         4         5         6   \\\n",
       "0  0.736460 -1.761829  1.590594 -0.268853  0.572145 -1.941886  0.727704   \n",
       "1 -0.389711  0.342256 -1.522463  0.237098 -1.771509 -0.885488 -0.679111   \n",
       "2 -0.269351  1.622452 -2.047811  1.720603 -1.749964 -1.618348  0.327188   \n",
       "3  0.256840  0.165040 -1.776401  1.723357  2.117348 -1.692605  1.077334   \n",
       "4  0.968270  1.834561  0.299747  0.308144  0.064617  2.174855 -1.213028   \n",
       "\n",
       "         7         8         9   ...        23        24        25        26  \\\n",
       "0  1.869884  0.224501 -1.442215  ...  2.220872  2.440442  0.510303  1.157391   \n",
       "1 -0.410219 -0.331288  2.092878  ...  1.580327  0.809171  2.235141  1.517466   \n",
       "2 -0.317671  0.046938  1.911881  ...  1.723625  1.718983  2.438604  1.113059   \n",
       "3  1.761624 -0.333281  1.573860  ...  1.369922  1.528851  1.901706  2.222391   \n",
       "4 -1.563548 -2.277270 -0.059009  ...  1.171433  2.273871  2.199479  0.646400   \n",
       "\n",
       "         27        28        29        30        31        32  \n",
       "0  0.265448  1.141465  0.356314  0.568853  1.954376  0.052627  \n",
       "1  1.795334  0.929355  1.663727  0.754457  0.650492  0.001308  \n",
       "2  2.180270  1.794781  0.627965  0.961728  1.258398  0.003834  \n",
       "3  0.968513  0.546513  2.236340  1.412382  1.898374 -0.002010  \n",
       "4  0.302676  1.323917  2.324899  0.334220  0.491228  0.015778  \n",
       "\n",
       "[5 rows x 33 columns]"
      ]
     },
     "metadata": {},
     "output_type": "display_data"
    }
   ],
   "source": [
    "df = pd.read_csv('pumadyn-32nm\\puma32H.data', sep=',', header=None)\n",
    "\n",
    "display(df.head())\n",
    "\n",
    "x, y = df.iloc[:, :-1], df.iloc[:, -1]"
   ]
  },
  {
   "cell_type": "code",
   "execution_count": 7,
   "metadata": {},
   "outputs": [],
   "source": [
    "x_embeddings = torch.tensor(x.values).float()\n",
    "y_embeddings = torch.tensor(y.values).float()\n",
    "y_embeddings = y_embeddings.view(-1, 1)"
   ]
  },
  {
   "cell_type": "code",
   "execution_count": 8,
   "metadata": {},
   "outputs": [
    {
     "name": "stdout",
     "output_type": "stream",
     "text": [
      "torch.Size([4499, 32]) torch.Size([4499, 1])\n"
     ]
    }
   ],
   "source": [
    "print(x_embeddings.shape, y_embeddings.shape)"
   ]
  },
  {
   "cell_type": "code",
   "execution_count": 11,
   "metadata": {},
   "outputs": [
    {
     "name": "stdout",
     "output_type": "stream",
     "text": [
      "Training the LASSO-MLP algorithm...\n",
      "Iteration 1:\n",
      "Testing lambda = 0.0\n",
      "Epoch [10/100], Loss: 0.0146\n",
      "Epoch [20/100], Loss: 0.0050\n",
      "Epoch [30/100], Loss: 0.0016\n",
      "Epoch [40/100], Loss: 0.0011\n",
      "Epoch [50/100], Loss: 0.0010\n",
      "Epoch [60/100], Loss: 0.0010\n",
      "Epoch [70/100], Loss: 0.0009\n",
      "Epoch [80/100], Loss: 0.0009\n",
      "Epoch [90/100], Loss: 0.0009\n",
      "Epoch [100/100], Loss: 0.0009\n",
      "[0.00095440564]\n"
     ]
    },
    {
     "name": "stderr",
     "output_type": "stream",
     "text": [
      "c:\\ProgramData\\anaconda3\\Lib\\site-packages\\torch\\nn\\modules\\loss.py:535: UserWarning: Using a target size (torch.Size([3599, 1])) that is different to the input size (torch.Size([3599])). This will likely lead to incorrect results due to broadcasting. Please ensure they have the same size.\n",
      "  return F.mse_loss(input, target, reduction=self.reduction)\n"
     ]
    },
    {
     "name": "stdout",
     "output_type": "stream",
     "text": [
      "Epoch [10/100], Loss: 0.0053\n",
      "Epoch [20/100], Loss: 0.0038\n",
      "Epoch [30/100], Loss: 0.0020\n",
      "Epoch [40/100], Loss: 0.0012\n",
      "Epoch [50/100], Loss: 0.0010\n",
      "Epoch [60/100], Loss: 0.0010\n",
      "Epoch [70/100], Loss: 0.0010\n",
      "Epoch [80/100], Loss: 0.0009\n",
      "Epoch [90/100], Loss: 0.0009\n",
      "Epoch [100/100], Loss: 0.0009\n",
      "[0.00095440564, 0.00086749287]\n"
     ]
    },
    {
     "name": "stderr",
     "output_type": "stream",
     "text": [
      "c:\\ProgramData\\anaconda3\\Lib\\site-packages\\torch\\nn\\modules\\loss.py:535: UserWarning: Using a target size (torch.Size([3599, 1])) that is different to the input size (torch.Size([3599])). This will likely lead to incorrect results due to broadcasting. Please ensure they have the same size.\n",
      "  return F.mse_loss(input, target, reduction=self.reduction)\n"
     ]
    },
    {
     "name": "stdout",
     "output_type": "stream",
     "text": [
      "Epoch [10/100], Loss: 0.0075\n",
      "Epoch [20/100], Loss: 0.0040\n",
      "Epoch [30/100], Loss: 0.0016\n",
      "Epoch [40/100], Loss: 0.0011\n",
      "Epoch [50/100], Loss: 0.0010\n",
      "Epoch [60/100], Loss: 0.0009\n",
      "Epoch [70/100], Loss: 0.0009\n",
      "Epoch [80/100], Loss: 0.0009\n",
      "Epoch [90/100], Loss: 0.0009\n",
      "Epoch [100/100], Loss: 0.0009\n",
      "[0.00095440564, 0.00086749287, 0.0009218902]\n"
     ]
    },
    {
     "name": "stderr",
     "output_type": "stream",
     "text": [
      "c:\\ProgramData\\anaconda3\\Lib\\site-packages\\torch\\nn\\modules\\loss.py:535: UserWarning: Using a target size (torch.Size([3599, 1])) that is different to the input size (torch.Size([3599])). This will likely lead to incorrect results due to broadcasting. Please ensure they have the same size.\n",
      "  return F.mse_loss(input, target, reduction=self.reduction)\n"
     ]
    },
    {
     "name": "stdout",
     "output_type": "stream",
     "text": [
      "Epoch [10/100], Loss: 0.0058\n",
      "Epoch [20/100], Loss: 0.0026\n",
      "Epoch [30/100], Loss: 0.0016\n",
      "Epoch [40/100], Loss: 0.0013\n",
      "Epoch [50/100], Loss: 0.0011\n",
      "Epoch [60/100], Loss: 0.0010\n",
      "Epoch [70/100], Loss: 0.0009\n",
      "Epoch [80/100], Loss: 0.0009\n",
      "Epoch [90/100], Loss: 0.0009\n",
      "Epoch [100/100], Loss: 0.0009\n",
      "[0.00095440564, 0.00086749287, 0.0009218902, 0.0008895177]\n"
     ]
    },
    {
     "name": "stderr",
     "output_type": "stream",
     "text": [
      "c:\\ProgramData\\anaconda3\\Lib\\site-packages\\torch\\nn\\modules\\loss.py:535: UserWarning: Using a target size (torch.Size([3600, 1])) that is different to the input size (torch.Size([3600])). This will likely lead to incorrect results due to broadcasting. Please ensure they have the same size.\n",
      "  return F.mse_loss(input, target, reduction=self.reduction)\n"
     ]
    },
    {
     "name": "stdout",
     "output_type": "stream",
     "text": [
      "Epoch [10/100], Loss: 0.0142\n",
      "Epoch [20/100], Loss: 0.0034\n",
      "Epoch [30/100], Loss: 0.0017\n",
      "Epoch [40/100], Loss: 0.0011\n",
      "Epoch [50/100], Loss: 0.0010\n",
      "Epoch [60/100], Loss: 0.0009\n",
      "Epoch [70/100], Loss: 0.0009\n",
      "Epoch [80/100], Loss: 0.0009\n",
      "Epoch [90/100], Loss: 0.0009\n",
      "Epoch [100/100], Loss: 0.0009\n",
      "[0.00095440564, 0.00086749287, 0.0009218902, 0.0008895177, 0.00091778795]\n",
      "Testing lambda = 0.1\n"
     ]
    },
    {
     "name": "stderr",
     "output_type": "stream",
     "text": [
      "c:\\ProgramData\\anaconda3\\Lib\\site-packages\\torch\\nn\\modules\\loss.py:535: UserWarning: Using a target size (torch.Size([3599, 1])) that is different to the input size (torch.Size([3599])). This will likely lead to incorrect results due to broadcasting. Please ensure they have the same size.\n",
      "  return F.mse_loss(input, target, reduction=self.reduction)\n"
     ]
    },
    {
     "name": "stdout",
     "output_type": "stream",
     "text": [
      "Epoch [10/100], Loss: 12.9329\n",
      "Epoch [20/100], Loss: 7.9886\n",
      "Epoch [30/100], Loss: 4.8703\n",
      "Epoch [40/100], Loss: 3.5403\n",
      "Epoch [50/100], Loss: 2.6692\n",
      "Epoch [60/100], Loss: 2.2582\n",
      "Epoch [70/100], Loss: 1.8374\n",
      "Epoch [80/100], Loss: 1.4924\n",
      "Epoch [90/100], Loss: 1.1665\n",
      "Epoch [100/100], Loss: 0.8153\n",
      "[0.0009072126]\n"
     ]
    },
    {
     "name": "stderr",
     "output_type": "stream",
     "text": [
      "c:\\ProgramData\\anaconda3\\Lib\\site-packages\\torch\\nn\\modules\\loss.py:535: UserWarning: Using a target size (torch.Size([3599, 1])) that is different to the input size (torch.Size([3599])). This will likely lead to incorrect results due to broadcasting. Please ensure they have the same size.\n",
      "  return F.mse_loss(input, target, reduction=self.reduction)\n"
     ]
    },
    {
     "name": "stdout",
     "output_type": "stream",
     "text": [
      "Epoch [10/100], Loss: 12.8749\n",
      "Epoch [20/100], Loss: 7.9572\n",
      "Epoch [30/100], Loss: 4.8877\n",
      "Epoch [40/100], Loss: 3.5539\n",
      "Epoch [50/100], Loss: 2.6618\n",
      "Epoch [60/100], Loss: 2.2674\n",
      "Epoch [70/100], Loss: 1.8414\n",
      "Epoch [80/100], Loss: 1.4814\n",
      "Epoch [90/100], Loss: 1.1621\n",
      "Epoch [100/100], Loss: 0.8255\n",
      "[0.0009072126, 0.00083131925]\n"
     ]
    },
    {
     "name": "stderr",
     "output_type": "stream",
     "text": [
      "c:\\ProgramData\\anaconda3\\Lib\\site-packages\\torch\\nn\\modules\\loss.py:535: UserWarning: Using a target size (torch.Size([3599, 1])) that is different to the input size (torch.Size([3599])). This will likely lead to incorrect results due to broadcasting. Please ensure they have the same size.\n",
      "  return F.mse_loss(input, target, reduction=self.reduction)\n"
     ]
    },
    {
     "name": "stdout",
     "output_type": "stream",
     "text": [
      "Epoch [10/100], Loss: 13.0383\n",
      "Epoch [20/100], Loss: 8.0399\n",
      "Epoch [30/100], Loss: 4.9104\n",
      "Epoch [40/100], Loss: 3.5377\n",
      "Epoch [50/100], Loss: 2.6740\n",
      "Epoch [60/100], Loss: 2.2600\n",
      "Epoch [70/100], Loss: 1.8446\n",
      "Epoch [80/100], Loss: 1.4956\n",
      "Epoch [90/100], Loss: 1.1652\n",
      "Epoch [100/100], Loss: 0.8229\n",
      "[0.0009072126, 0.00083131925, 0.0009036297]\n"
     ]
    },
    {
     "name": "stderr",
     "output_type": "stream",
     "text": [
      "c:\\ProgramData\\anaconda3\\Lib\\site-packages\\torch\\nn\\modules\\loss.py:535: UserWarning: Using a target size (torch.Size([3599, 1])) that is different to the input size (torch.Size([3599])). This will likely lead to incorrect results due to broadcasting. Please ensure they have the same size.\n",
      "  return F.mse_loss(input, target, reduction=self.reduction)\n"
     ]
    },
    {
     "name": "stdout",
     "output_type": "stream",
     "text": [
      "Epoch [10/100], Loss: 12.9086\n",
      "Epoch [20/100], Loss: 8.0786\n",
      "Epoch [30/100], Loss: 4.9359\n",
      "Epoch [40/100], Loss: 3.5642\n",
      "Epoch [50/100], Loss: 2.6823\n",
      "Epoch [60/100], Loss: 2.2833\n",
      "Epoch [70/100], Loss: 1.8490\n",
      "Epoch [80/100], Loss: 1.5118\n",
      "Epoch [90/100], Loss: 1.1814\n",
      "Epoch [100/100], Loss: 0.8326\n",
      "[0.0009072126, 0.00083131925, 0.0009036297, 0.00086987886]\n"
     ]
    },
    {
     "name": "stderr",
     "output_type": "stream",
     "text": [
      "c:\\ProgramData\\anaconda3\\Lib\\site-packages\\torch\\nn\\modules\\loss.py:535: UserWarning: Using a target size (torch.Size([3600, 1])) that is different to the input size (torch.Size([3600])). This will likely lead to incorrect results due to broadcasting. Please ensure they have the same size.\n",
      "  return F.mse_loss(input, target, reduction=self.reduction)\n"
     ]
    },
    {
     "name": "stdout",
     "output_type": "stream",
     "text": [
      "Epoch [10/100], Loss: 13.1341\n",
      "Epoch [20/100], Loss: 8.1134\n",
      "Epoch [30/100], Loss: 4.9123\n",
      "Epoch [40/100], Loss: 3.5366\n",
      "Epoch [50/100], Loss: 2.6679\n",
      "Epoch [60/100], Loss: 2.2526\n",
      "Epoch [70/100], Loss: 1.8302\n",
      "Epoch [80/100], Loss: 1.4828\n",
      "Epoch [90/100], Loss: 1.1574\n",
      "Epoch [100/100], Loss: 0.8050\n",
      "[0.0009072126, 0.00083131925, 0.0009036297, 0.00086987886, 0.0009140195]\n",
      "Testing lambda = 0.2\n"
     ]
    },
    {
     "name": "stderr",
     "output_type": "stream",
     "text": [
      "c:\\ProgramData\\anaconda3\\Lib\\site-packages\\torch\\nn\\modules\\loss.py:535: UserWarning: Using a target size (torch.Size([3599, 1])) that is different to the input size (torch.Size([3599])). This will likely lead to incorrect results due to broadcasting. Please ensure they have the same size.\n",
      "  return F.mse_loss(input, target, reduction=self.reduction)\n"
     ]
    },
    {
     "name": "stdout",
     "output_type": "stream",
     "text": [
      "Epoch [10/100], Loss: 26.1592\n",
      "Epoch [20/100], Loss: 16.0077\n",
      "Epoch [30/100], Loss: 9.8067\n",
      "Epoch [40/100], Loss: 7.0971\n",
      "Epoch [50/100], Loss: 5.3315\n",
      "Epoch [60/100], Loss: 4.5736\n",
      "Epoch [70/100], Loss: 3.6742\n",
      "Epoch [80/100], Loss: 3.0144\n",
      "Epoch [90/100], Loss: 2.3426\n",
      "Epoch [100/100], Loss: 1.6424\n",
      "[0.0009078826]\n"
     ]
    },
    {
     "name": "stderr",
     "output_type": "stream",
     "text": [
      "c:\\ProgramData\\anaconda3\\Lib\\site-packages\\torch\\nn\\modules\\loss.py:535: UserWarning: Using a target size (torch.Size([3599, 1])) that is different to the input size (torch.Size([3599])). This will likely lead to incorrect results due to broadcasting. Please ensure they have the same size.\n",
      "  return F.mse_loss(input, target, reduction=self.reduction)\n"
     ]
    },
    {
     "name": "stdout",
     "output_type": "stream",
     "text": [
      "Epoch [10/100], Loss: 25.6717\n",
      "Epoch [20/100], Loss: 15.9601\n",
      "Epoch [30/100], Loss: 9.7985\n",
      "Epoch [40/100], Loss: 7.0795\n",
      "Epoch [50/100], Loss: 5.3285\n",
      "Epoch [60/100], Loss: 4.5462\n",
      "Epoch [70/100], Loss: 3.6627\n",
      "Epoch [80/100], Loss: 3.0521\n",
      "Epoch [90/100], Loss: 2.3539\n",
      "Epoch [100/100], Loss: 1.6462\n",
      "[0.0009078826, 0.0008246654]\n"
     ]
    },
    {
     "name": "stderr",
     "output_type": "stream",
     "text": [
      "c:\\ProgramData\\anaconda3\\Lib\\site-packages\\torch\\nn\\modules\\loss.py:535: UserWarning: Using a target size (torch.Size([3599, 1])) that is different to the input size (torch.Size([3599])). This will likely lead to incorrect results due to broadcasting. Please ensure they have the same size.\n",
      "  return F.mse_loss(input, target, reduction=self.reduction)\n"
     ]
    },
    {
     "name": "stdout",
     "output_type": "stream",
     "text": [
      "Epoch [10/100], Loss: 25.8618\n",
      "Epoch [20/100], Loss: 15.8949\n",
      "Epoch [30/100], Loss: 9.7718\n",
      "Epoch [40/100], Loss: 7.1470\n",
      "Epoch [50/100], Loss: 5.3085\n",
      "Epoch [60/100], Loss: 4.5734\n",
      "Epoch [70/100], Loss: 3.6750\n",
      "Epoch [80/100], Loss: 3.0354\n",
      "Epoch [90/100], Loss: 2.3403\n",
      "Epoch [100/100], Loss: 1.6681\n",
      "[0.0009078826, 0.0008246654, 0.00090374536]\n"
     ]
    },
    {
     "name": "stderr",
     "output_type": "stream",
     "text": [
      "c:\\ProgramData\\anaconda3\\Lib\\site-packages\\torch\\nn\\modules\\loss.py:535: UserWarning: Using a target size (torch.Size([3599, 1])) that is different to the input size (torch.Size([3599])). This will likely lead to incorrect results due to broadcasting. Please ensure they have the same size.\n",
      "  return F.mse_loss(input, target, reduction=self.reduction)\n"
     ]
    },
    {
     "name": "stdout",
     "output_type": "stream",
     "text": [
      "Epoch [10/100], Loss: 25.6123\n",
      "Epoch [20/100], Loss: 16.0554\n",
      "Epoch [30/100], Loss: 9.8011\n",
      "Epoch [40/100], Loss: 7.0486\n",
      "Epoch [50/100], Loss: 5.3243\n",
      "Epoch [60/100], Loss: 4.4931\n",
      "Epoch [70/100], Loss: 3.6973\n",
      "Epoch [80/100], Loss: 2.9859\n",
      "Epoch [90/100], Loss: 2.3371\n",
      "Epoch [100/100], Loss: 1.6344\n",
      "[0.0009078826, 0.0008246654, 0.00090374536, 0.00087667105]\n"
     ]
    },
    {
     "name": "stderr",
     "output_type": "stream",
     "text": [
      "c:\\ProgramData\\anaconda3\\Lib\\site-packages\\torch\\nn\\modules\\loss.py:535: UserWarning: Using a target size (torch.Size([3600, 1])) that is different to the input size (torch.Size([3600])). This will likely lead to incorrect results due to broadcasting. Please ensure they have the same size.\n",
      "  return F.mse_loss(input, target, reduction=self.reduction)\n"
     ]
    },
    {
     "name": "stdout",
     "output_type": "stream",
     "text": [
      "Epoch [10/100], Loss: 25.6117\n",
      "Epoch [20/100], Loss: 15.8216\n",
      "Epoch [30/100], Loss: 9.7353\n",
      "Epoch [40/100], Loss: 7.1005\n",
      "Epoch [50/100], Loss: 5.3615\n",
      "Epoch [60/100], Loss: 4.5659\n",
      "Epoch [70/100], Loss: 3.7161\n",
      "Epoch [80/100], Loss: 3.0372\n",
      "Epoch [90/100], Loss: 2.3532\n",
      "Epoch [100/100], Loss: 1.6800\n",
      "[0.0009078826, 0.0008246654, 0.00090374536, 0.00087667105, 0.0009055184]\n",
      "Testing lambda = 0.30000000000000004\n"
     ]
    },
    {
     "name": "stderr",
     "output_type": "stream",
     "text": [
      "c:\\ProgramData\\anaconda3\\Lib\\site-packages\\torch\\nn\\modules\\loss.py:535: UserWarning: Using a target size (torch.Size([3599, 1])) that is different to the input size (torch.Size([3599])). This will likely lead to incorrect results due to broadcasting. Please ensure they have the same size.\n",
      "  return F.mse_loss(input, target, reduction=self.reduction)\n"
     ]
    },
    {
     "name": "stdout",
     "output_type": "stream",
     "text": [
      "Epoch [10/100], Loss: 38.5354\n",
      "Epoch [20/100], Loss: 24.0840\n",
      "Epoch [30/100], Loss: 14.8131\n",
      "Epoch [40/100], Loss: 10.6170\n",
      "Epoch [50/100], Loss: 7.9790\n",
      "Epoch [60/100], Loss: 6.8352\n",
      "Epoch [70/100], Loss: 5.5935\n",
      "Epoch [80/100], Loss: 4.5382\n",
      "Epoch [90/100], Loss: 3.5029\n",
      "Epoch [100/100], Loss: 2.4926\n",
      "[0.00090646924]\n"
     ]
    },
    {
     "name": "stderr",
     "output_type": "stream",
     "text": [
      "c:\\ProgramData\\anaconda3\\Lib\\site-packages\\torch\\nn\\modules\\loss.py:535: UserWarning: Using a target size (torch.Size([3599, 1])) that is different to the input size (torch.Size([3599])). This will likely lead to incorrect results due to broadcasting. Please ensure they have the same size.\n",
      "  return F.mse_loss(input, target, reduction=self.reduction)\n"
     ]
    },
    {
     "name": "stdout",
     "output_type": "stream",
     "text": [
      "Epoch [10/100], Loss: 39.6339\n",
      "Epoch [20/100], Loss: 24.3138\n",
      "Epoch [30/100], Loss: 14.7613\n",
      "Epoch [40/100], Loss: 10.7176\n",
      "Epoch [50/100], Loss: 7.9857\n",
      "Epoch [60/100], Loss: 6.7794\n",
      "Epoch [70/100], Loss: 5.5333\n",
      "Epoch [80/100], Loss: 4.5184\n",
      "Epoch [90/100], Loss: 3.4933\n",
      "Epoch [100/100], Loss: 2.4620\n",
      "[0.00090646924, 0.0008232819]\n"
     ]
    },
    {
     "name": "stderr",
     "output_type": "stream",
     "text": [
      "c:\\ProgramData\\anaconda3\\Lib\\site-packages\\torch\\nn\\modules\\loss.py:535: UserWarning: Using a target size (torch.Size([3599, 1])) that is different to the input size (torch.Size([3599])). This will likely lead to incorrect results due to broadcasting. Please ensure they have the same size.\n",
      "  return F.mse_loss(input, target, reduction=self.reduction)\n"
     ]
    },
    {
     "name": "stdout",
     "output_type": "stream",
     "text": [
      "Epoch [10/100], Loss: 38.5609\n",
      "Epoch [20/100], Loss: 23.8763\n",
      "Epoch [30/100], Loss: 14.6515\n",
      "Epoch [40/100], Loss: 10.6602\n",
      "Epoch [50/100], Loss: 8.0457\n",
      "Epoch [60/100], Loss: 6.8094\n",
      "Epoch [70/100], Loss: 5.5494\n",
      "Epoch [80/100], Loss: 4.4955\n",
      "Epoch [90/100], Loss: 3.5161\n",
      "Epoch [100/100], Loss: 2.4856\n",
      "[0.00090646924, 0.0008232819, 0.0009035363]\n"
     ]
    },
    {
     "name": "stderr",
     "output_type": "stream",
     "text": [
      "c:\\ProgramData\\anaconda3\\Lib\\site-packages\\torch\\nn\\modules\\loss.py:535: UserWarning: Using a target size (torch.Size([3599, 1])) that is different to the input size (torch.Size([3599])). This will likely lead to incorrect results due to broadcasting. Please ensure they have the same size.\n",
      "  return F.mse_loss(input, target, reduction=self.reduction)\n"
     ]
    },
    {
     "name": "stdout",
     "output_type": "stream",
     "text": [
      "Epoch [10/100], Loss: 38.7959\n",
      "Epoch [20/100], Loss: 24.0579\n",
      "Epoch [30/100], Loss: 14.7697\n",
      "Epoch [40/100], Loss: 10.6838\n",
      "Epoch [50/100], Loss: 8.0311\n",
      "Epoch [60/100], Loss: 6.8716\n",
      "Epoch [70/100], Loss: 5.5533\n",
      "Epoch [80/100], Loss: 4.5398\n",
      "Epoch [90/100], Loss: 3.5277\n",
      "Epoch [100/100], Loss: 2.5189\n",
      "[0.00090646924, 0.0008232819, 0.0009035363, 0.0008706108]\n"
     ]
    },
    {
     "name": "stderr",
     "output_type": "stream",
     "text": [
      "c:\\ProgramData\\anaconda3\\Lib\\site-packages\\torch\\nn\\modules\\loss.py:535: UserWarning: Using a target size (torch.Size([3600, 1])) that is different to the input size (torch.Size([3600])). This will likely lead to incorrect results due to broadcasting. Please ensure they have the same size.\n",
      "  return F.mse_loss(input, target, reduction=self.reduction)\n"
     ]
    },
    {
     "name": "stdout",
     "output_type": "stream",
     "text": [
      "Epoch [10/100], Loss: 39.4519\n",
      "Epoch [20/100], Loss: 24.2739\n",
      "Epoch [30/100], Loss: 14.8505\n",
      "Epoch [40/100], Loss: 10.8050\n",
      "Epoch [50/100], Loss: 8.0610\n",
      "Epoch [60/100], Loss: 6.8094\n",
      "Epoch [70/100], Loss: 5.5381\n",
      "Epoch [80/100], Loss: 4.5329\n",
      "Epoch [90/100], Loss: 3.5065\n",
      "Epoch [100/100], Loss: 2.5069\n",
      "[0.00090646924, 0.0008232819, 0.0009035363, 0.0008706108, 0.0009045516]\n",
      "Testing lambda = 0.4\n"
     ]
    },
    {
     "name": "stderr",
     "output_type": "stream",
     "text": [
      "c:\\ProgramData\\anaconda3\\Lib\\site-packages\\torch\\nn\\modules\\loss.py:535: UserWarning: Using a target size (torch.Size([3599, 1])) that is different to the input size (torch.Size([3599])). This will likely lead to incorrect results due to broadcasting. Please ensure they have the same size.\n",
      "  return F.mse_loss(input, target, reduction=self.reduction)\n"
     ]
    },
    {
     "name": "stdout",
     "output_type": "stream",
     "text": [
      "Epoch [10/100], Loss: 51.8358\n",
      "Epoch [20/100], Loss: 32.3364\n",
      "Epoch [30/100], Loss: 19.7876\n",
      "Epoch [40/100], Loss: 14.3153\n",
      "Epoch [50/100], Loss: 10.6352\n",
      "Epoch [60/100], Loss: 9.1590\n",
      "Epoch [70/100], Loss: 7.4030\n",
      "Epoch [80/100], Loss: 6.0574\n",
      "Epoch [90/100], Loss: 4.7285\n",
      "Epoch [100/100], Loss: 3.2947\n",
      "[0.0009123664]\n"
     ]
    },
    {
     "name": "stderr",
     "output_type": "stream",
     "text": [
      "c:\\ProgramData\\anaconda3\\Lib\\site-packages\\torch\\nn\\modules\\loss.py:535: UserWarning: Using a target size (torch.Size([3599, 1])) that is different to the input size (torch.Size([3599])). This will likely lead to incorrect results due to broadcasting. Please ensure they have the same size.\n",
      "  return F.mse_loss(input, target, reduction=self.reduction)\n"
     ]
    },
    {
     "name": "stdout",
     "output_type": "stream",
     "text": [
      "Epoch [10/100], Loss: 52.0322\n",
      "Epoch [20/100], Loss: 32.3943\n",
      "Epoch [30/100], Loss: 19.7532\n",
      "Epoch [40/100], Loss: 14.2691\n",
      "Epoch [50/100], Loss: 10.6631\n",
      "Epoch [60/100], Loss: 9.1735\n",
      "Epoch [70/100], Loss: 7.3411\n",
      "Epoch [80/100], Loss: 6.0591\n",
      "Epoch [90/100], Loss: 4.7018\n",
      "Epoch [100/100], Loss: 3.2813\n",
      "[0.0009123664, 0.00082271954]\n"
     ]
    },
    {
     "name": "stderr",
     "output_type": "stream",
     "text": [
      "c:\\ProgramData\\anaconda3\\Lib\\site-packages\\torch\\nn\\modules\\loss.py:535: UserWarning: Using a target size (torch.Size([3599, 1])) that is different to the input size (torch.Size([3599])). This will likely lead to incorrect results due to broadcasting. Please ensure they have the same size.\n",
      "  return F.mse_loss(input, target, reduction=self.reduction)\n"
     ]
    },
    {
     "name": "stdout",
     "output_type": "stream",
     "text": [
      "Epoch [10/100], Loss: 52.5067\n",
      "Epoch [20/100], Loss: 32.3444\n",
      "Epoch [30/100], Loss: 19.7727\n",
      "Epoch [40/100], Loss: 14.2663\n",
      "Epoch [50/100], Loss: 10.6696\n",
      "Epoch [60/100], Loss: 9.1394\n",
      "Epoch [70/100], Loss: 7.3901\n",
      "Epoch [80/100], Loss: 6.0573\n",
      "Epoch [90/100], Loss: 4.6479\n",
      "Epoch [100/100], Loss: 3.2925\n",
      "[0.0009123664, 0.00082271954, 0.00090315036]\n"
     ]
    },
    {
     "name": "stderr",
     "output_type": "stream",
     "text": [
      "c:\\ProgramData\\anaconda3\\Lib\\site-packages\\torch\\nn\\modules\\loss.py:535: UserWarning: Using a target size (torch.Size([3599, 1])) that is different to the input size (torch.Size([3599])). This will likely lead to incorrect results due to broadcasting. Please ensure they have the same size.\n",
      "  return F.mse_loss(input, target, reduction=self.reduction)\n"
     ]
    },
    {
     "name": "stdout",
     "output_type": "stream",
     "text": [
      "Epoch [10/100], Loss: 51.1128\n",
      "Epoch [20/100], Loss: 32.0639\n",
      "Epoch [30/100], Loss: 19.6531\n",
      "Epoch [40/100], Loss: 14.2077\n",
      "Epoch [50/100], Loss: 10.7073\n",
      "Epoch [60/100], Loss: 9.0529\n",
      "Epoch [70/100], Loss: 7.4394\n",
      "Epoch [80/100], Loss: 6.0487\n",
      "Epoch [90/100], Loss: 4.6635\n",
      "Epoch [100/100], Loss: 3.3430\n",
      "[0.0009123664, 0.00082271954, 0.00090315036, 0.000872242]\n"
     ]
    },
    {
     "name": "stderr",
     "output_type": "stream",
     "text": [
      "c:\\ProgramData\\anaconda3\\Lib\\site-packages\\torch\\nn\\modules\\loss.py:535: UserWarning: Using a target size (torch.Size([3600, 1])) that is different to the input size (torch.Size([3600])). This will likely lead to incorrect results due to broadcasting. Please ensure they have the same size.\n",
      "  return F.mse_loss(input, target, reduction=self.reduction)\n"
     ]
    },
    {
     "name": "stdout",
     "output_type": "stream",
     "text": [
      "Epoch [10/100], Loss: 52.0775\n",
      "Epoch [20/100], Loss: 32.0749\n",
      "Epoch [30/100], Loss: 19.5465\n",
      "Epoch [40/100], Loss: 14.2607\n",
      "Epoch [50/100], Loss: 10.7055\n",
      "Epoch [60/100], Loss: 9.1188\n",
      "Epoch [70/100], Loss: 7.3720\n",
      "Epoch [80/100], Loss: 6.0394\n",
      "Epoch [90/100], Loss: 4.7082\n",
      "Epoch [100/100], Loss: 3.3274\n",
      "[0.0009123664, 0.00082271954, 0.00090315036, 0.000872242, 0.00090407266]\n",
      "Testing lambda = 0.5\n"
     ]
    },
    {
     "name": "stderr",
     "output_type": "stream",
     "text": [
      "c:\\ProgramData\\anaconda3\\Lib\\site-packages\\torch\\nn\\modules\\loss.py:535: UserWarning: Using a target size (torch.Size([3599, 1])) that is different to the input size (torch.Size([3599])). This will likely lead to incorrect results due to broadcasting. Please ensure they have the same size.\n",
      "  return F.mse_loss(input, target, reduction=self.reduction)\n"
     ]
    },
    {
     "name": "stdout",
     "output_type": "stream",
     "text": [
      "Epoch [10/100], Loss: 64.9063\n",
      "Epoch [20/100], Loss: 40.4005\n",
      "Epoch [30/100], Loss: 24.7330\n",
      "Epoch [40/100], Loss: 17.7582\n",
      "Epoch [50/100], Loss: 13.3521\n",
      "Epoch [60/100], Loss: 11.4882\n",
      "Epoch [70/100], Loss: 9.3313\n",
      "Epoch [80/100], Loss: 7.6296\n",
      "Epoch [90/100], Loss: 5.9312\n",
      "Epoch [100/100], Loss: 4.1919\n",
      "[0.0009084311]\n"
     ]
    },
    {
     "name": "stderr",
     "output_type": "stream",
     "text": [
      "c:\\ProgramData\\anaconda3\\Lib\\site-packages\\torch\\nn\\modules\\loss.py:535: UserWarning: Using a target size (torch.Size([3599, 1])) that is different to the input size (torch.Size([3599])). This will likely lead to incorrect results due to broadcasting. Please ensure they have the same size.\n",
      "  return F.mse_loss(input, target, reduction=self.reduction)\n"
     ]
    },
    {
     "name": "stdout",
     "output_type": "stream",
     "text": [
      "Epoch [10/100], Loss: 64.7457\n",
      "Epoch [20/100], Loss: 40.0082\n",
      "Epoch [30/100], Loss: 24.4940\n",
      "Epoch [40/100], Loss: 17.8211\n",
      "Epoch [50/100], Loss: 13.4161\n",
      "Epoch [60/100], Loss: 11.3742\n",
      "Epoch [70/100], Loss: 9.2607\n",
      "Epoch [80/100], Loss: 7.6368\n",
      "Epoch [90/100], Loss: 5.7853\n",
      "Epoch [100/100], Loss: 4.1790\n",
      "[0.0009084311, 0.0008212062]\n"
     ]
    },
    {
     "name": "stderr",
     "output_type": "stream",
     "text": [
      "c:\\ProgramData\\anaconda3\\Lib\\site-packages\\torch\\nn\\modules\\loss.py:535: UserWarning: Using a target size (torch.Size([3599, 1])) that is different to the input size (torch.Size([3599])). This will likely lead to incorrect results due to broadcasting. Please ensure they have the same size.\n",
      "  return F.mse_loss(input, target, reduction=self.reduction)\n"
     ]
    },
    {
     "name": "stdout",
     "output_type": "stream",
     "text": [
      "Epoch [10/100], Loss: 64.5442\n",
      "Epoch [20/100], Loss: 40.1805\n",
      "Epoch [30/100], Loss: 24.8021\n",
      "Epoch [40/100], Loss: 17.8703\n",
      "Epoch [50/100], Loss: 13.3584\n",
      "Epoch [60/100], Loss: 11.4482\n",
      "Epoch [70/100], Loss: 9.1861\n",
      "Epoch [80/100], Loss: 7.5069\n",
      "Epoch [90/100], Loss: 5.8538\n",
      "Epoch [100/100], Loss: 4.1412\n",
      "[0.0009084311, 0.0008212062, 0.0009057853]\n"
     ]
    },
    {
     "name": "stderr",
     "output_type": "stream",
     "text": [
      "c:\\ProgramData\\anaconda3\\Lib\\site-packages\\torch\\nn\\modules\\loss.py:535: UserWarning: Using a target size (torch.Size([3599, 1])) that is different to the input size (torch.Size([3599])). This will likely lead to incorrect results due to broadcasting. Please ensure they have the same size.\n",
      "  return F.mse_loss(input, target, reduction=self.reduction)\n"
     ]
    },
    {
     "name": "stdout",
     "output_type": "stream",
     "text": [
      "Epoch [10/100], Loss: 64.2561\n",
      "Epoch [20/100], Loss: 40.1647\n",
      "Epoch [30/100], Loss: 24.8167\n",
      "Epoch [40/100], Loss: 18.0227\n",
      "Epoch [50/100], Loss: 13.3893\n",
      "Epoch [60/100], Loss: 11.4132\n",
      "Epoch [70/100], Loss: 9.2893\n",
      "Epoch [80/100], Loss: 7.6119\n",
      "Epoch [90/100], Loss: 5.8878\n",
      "Epoch [100/100], Loss: 4.1991\n",
      "[0.0009084311, 0.0008212062, 0.0009057853, 0.00087080867]\n"
     ]
    },
    {
     "name": "stderr",
     "output_type": "stream",
     "text": [
      "c:\\ProgramData\\anaconda3\\Lib\\site-packages\\torch\\nn\\modules\\loss.py:535: UserWarning: Using a target size (torch.Size([3600, 1])) that is different to the input size (torch.Size([3600])). This will likely lead to incorrect results due to broadcasting. Please ensure they have the same size.\n",
      "  return F.mse_loss(input, target, reduction=self.reduction)\n"
     ]
    },
    {
     "name": "stdout",
     "output_type": "stream",
     "text": [
      "Epoch [10/100], Loss: 65.6697\n",
      "Epoch [20/100], Loss: 40.8236\n",
      "Epoch [30/100], Loss: 24.7503\n",
      "Epoch [40/100], Loss: 17.9949\n",
      "Epoch [50/100], Loss: 13.5188\n",
      "Epoch [60/100], Loss: 11.5127\n",
      "Epoch [70/100], Loss: 9.4155\n",
      "Epoch [80/100], Loss: 7.6148\n",
      "Epoch [90/100], Loss: 5.9863\n",
      "Epoch [100/100], Loss: 4.1770\n",
      "[0.0009084311, 0.0008212062, 0.0009057853, 0.00087080867, 0.00090499106]\n",
      "Testing lambda = 0.6000000000000001\n"
     ]
    },
    {
     "name": "stderr",
     "output_type": "stream",
     "text": [
      "c:\\ProgramData\\anaconda3\\Lib\\site-packages\\torch\\nn\\modules\\loss.py:535: UserWarning: Using a target size (torch.Size([3599, 1])) that is different to the input size (torch.Size([3599])). This will likely lead to incorrect results due to broadcasting. Please ensure they have the same size.\n",
      "  return F.mse_loss(input, target, reduction=self.reduction)\n"
     ]
    },
    {
     "name": "stdout",
     "output_type": "stream",
     "text": [
      "Epoch [10/100], Loss: 77.3962\n",
      "Epoch [20/100], Loss: 48.0368\n",
      "Epoch [30/100], Loss: 29.4555\n",
      "Epoch [40/100], Loss: 21.6909\n",
      "Epoch [50/100], Loss: 16.0233\n",
      "Epoch [60/100], Loss: 13.8274\n",
      "Epoch [70/100], Loss: 11.1676\n",
      "Epoch [80/100], Loss: 9.1125\n",
      "Epoch [90/100], Loss: 7.0838\n",
      "Epoch [100/100], Loss: 5.0279\n",
      "[0.0009086384]\n"
     ]
    },
    {
     "name": "stderr",
     "output_type": "stream",
     "text": [
      "c:\\ProgramData\\anaconda3\\Lib\\site-packages\\torch\\nn\\modules\\loss.py:535: UserWarning: Using a target size (torch.Size([3599, 1])) that is different to the input size (torch.Size([3599])). This will likely lead to incorrect results due to broadcasting. Please ensure they have the same size.\n",
      "  return F.mse_loss(input, target, reduction=self.reduction)\n"
     ]
    },
    {
     "name": "stdout",
     "output_type": "stream",
     "text": [
      "Epoch [10/100], Loss: 76.8755\n",
      "Epoch [20/100], Loss: 48.0474\n",
      "Epoch [30/100], Loss: 29.5671\n",
      "Epoch [40/100], Loss: 21.3625\n",
      "Epoch [50/100], Loss: 16.0500\n",
      "Epoch [60/100], Loss: 13.7255\n",
      "Epoch [70/100], Loss: 11.1335\n",
      "Epoch [80/100], Loss: 9.1636\n",
      "Epoch [90/100], Loss: 7.1030\n",
      "Epoch [100/100], Loss: 5.0659\n",
      "[0.0009086384, 0.000828819]\n"
     ]
    },
    {
     "name": "stderr",
     "output_type": "stream",
     "text": [
      "c:\\ProgramData\\anaconda3\\Lib\\site-packages\\torch\\nn\\modules\\loss.py:535: UserWarning: Using a target size (torch.Size([3599, 1])) that is different to the input size (torch.Size([3599])). This will likely lead to incorrect results due to broadcasting. Please ensure they have the same size.\n",
      "  return F.mse_loss(input, target, reduction=self.reduction)\n"
     ]
    },
    {
     "name": "stdout",
     "output_type": "stream",
     "text": [
      "Epoch [10/100], Loss: 77.6055\n",
      "Epoch [20/100], Loss: 48.3803\n",
      "Epoch [30/100], Loss: 29.6907\n",
      "Epoch [40/100], Loss: 21.5085\n",
      "Epoch [50/100], Loss: 16.0175\n",
      "Epoch [60/100], Loss: 13.7656\n",
      "Epoch [70/100], Loss: 11.0771\n",
      "Epoch [80/100], Loss: 9.0651\n",
      "Epoch [90/100], Loss: 7.0179\n",
      "Epoch [100/100], Loss: 4.9489\n",
      "[0.0009086384, 0.000828819, 0.00090375176]\n"
     ]
    },
    {
     "name": "stderr",
     "output_type": "stream",
     "text": [
      "c:\\ProgramData\\anaconda3\\Lib\\site-packages\\torch\\nn\\modules\\loss.py:535: UserWarning: Using a target size (torch.Size([3599, 1])) that is different to the input size (torch.Size([3599])). This will likely lead to incorrect results due to broadcasting. Please ensure they have the same size.\n",
      "  return F.mse_loss(input, target, reduction=self.reduction)\n"
     ]
    },
    {
     "name": "stdout",
     "output_type": "stream",
     "text": [
      "Epoch [10/100], Loss: 77.1633\n",
      "Epoch [20/100], Loss: 48.2306\n",
      "Epoch [30/100], Loss: 29.6926\n",
      "Epoch [40/100], Loss: 21.5434\n",
      "Epoch [50/100], Loss: 16.1428\n",
      "Epoch [60/100], Loss: 13.7816\n",
      "Epoch [70/100], Loss: 11.1911\n",
      "Epoch [80/100], Loss: 9.1443\n",
      "Epoch [90/100], Loss: 7.0152\n",
      "Epoch [100/100], Loss: 5.0168\n",
      "[0.0009086384, 0.000828819, 0.00090375176, 0.00087228115]\n"
     ]
    },
    {
     "name": "stderr",
     "output_type": "stream",
     "text": [
      "c:\\ProgramData\\anaconda3\\Lib\\site-packages\\torch\\nn\\modules\\loss.py:535: UserWarning: Using a target size (torch.Size([3600, 1])) that is different to the input size (torch.Size([3600])). This will likely lead to incorrect results due to broadcasting. Please ensure they have the same size.\n",
      "  return F.mse_loss(input, target, reduction=self.reduction)\n"
     ]
    },
    {
     "name": "stdout",
     "output_type": "stream",
     "text": [
      "Epoch [10/100], Loss: 77.8208\n",
      "Epoch [20/100], Loss: 48.5636\n",
      "Epoch [30/100], Loss: 29.8786\n",
      "Epoch [40/100], Loss: 21.4121\n",
      "Epoch [50/100], Loss: 16.0283\n",
      "Epoch [60/100], Loss: 13.6478\n",
      "Epoch [70/100], Loss: 11.0571\n",
      "Epoch [80/100], Loss: 9.1071\n",
      "Epoch [90/100], Loss: 6.9830\n",
      "Epoch [100/100], Loss: 4.9577\n",
      "[0.0009086384, 0.000828819, 0.00090375176, 0.00087228115, 0.00090910867]\n",
      "Testing lambda = 0.7000000000000001\n"
     ]
    },
    {
     "name": "stderr",
     "output_type": "stream",
     "text": [
      "c:\\ProgramData\\anaconda3\\Lib\\site-packages\\torch\\nn\\modules\\loss.py:535: UserWarning: Using a target size (torch.Size([3599, 1])) that is different to the input size (torch.Size([3599])). This will likely lead to incorrect results due to broadcasting. Please ensure they have the same size.\n",
      "  return F.mse_loss(input, target, reduction=self.reduction)\n"
     ]
    },
    {
     "name": "stdout",
     "output_type": "stream",
     "text": [
      "Epoch [10/100], Loss: 90.9110\n",
      "Epoch [20/100], Loss: 56.0764\n",
      "Epoch [30/100], Loss: 34.3577\n",
      "Epoch [40/100], Loss: 25.0506\n",
      "Epoch [50/100], Loss: 18.7505\n",
      "Epoch [60/100], Loss: 16.1418\n",
      "Epoch [70/100], Loss: 13.0862\n",
      "Epoch [80/100], Loss: 10.6385\n",
      "Epoch [90/100], Loss: 8.3420\n",
      "Epoch [100/100], Loss: 5.8432\n",
      "[0.00090684585]\n"
     ]
    },
    {
     "name": "stderr",
     "output_type": "stream",
     "text": [
      "c:\\ProgramData\\anaconda3\\Lib\\site-packages\\torch\\nn\\modules\\loss.py:535: UserWarning: Using a target size (torch.Size([3599, 1])) that is different to the input size (torch.Size([3599])). This will likely lead to incorrect results due to broadcasting. Please ensure they have the same size.\n",
      "  return F.mse_loss(input, target, reduction=self.reduction)\n"
     ]
    },
    {
     "name": "stdout",
     "output_type": "stream",
     "text": [
      "Epoch [10/100], Loss: 91.4285\n",
      "Epoch [20/100], Loss: 56.5182\n",
      "Epoch [30/100], Loss: 34.3439\n",
      "Epoch [40/100], Loss: 24.7804\n",
      "Epoch [50/100], Loss: 18.6670\n",
      "Epoch [60/100], Loss: 16.0285\n",
      "Epoch [70/100], Loss: 12.9131\n",
      "Epoch [80/100], Loss: 10.5313\n",
      "Epoch [90/100], Loss: 8.1458\n",
      "Epoch [100/100], Loss: 5.7868\n",
      "[0.00090684585, 0.0008229715]\n"
     ]
    },
    {
     "name": "stderr",
     "output_type": "stream",
     "text": [
      "c:\\ProgramData\\anaconda3\\Lib\\site-packages\\torch\\nn\\modules\\loss.py:535: UserWarning: Using a target size (torch.Size([3599, 1])) that is different to the input size (torch.Size([3599])). This will likely lead to incorrect results due to broadcasting. Please ensure they have the same size.\n",
      "  return F.mse_loss(input, target, reduction=self.reduction)\n"
     ]
    },
    {
     "name": "stdout",
     "output_type": "stream",
     "text": [
      "Epoch [10/100], Loss: 91.2087\n",
      "Epoch [20/100], Loss: 56.5777\n",
      "Epoch [30/100], Loss: 34.4886\n",
      "Epoch [40/100], Loss: 25.1514\n",
      "Epoch [50/100], Loss: 18.6287\n",
      "Epoch [60/100], Loss: 15.9141\n",
      "Epoch [70/100], Loss: 12.9704\n",
      "Epoch [80/100], Loss: 10.4758\n",
      "Epoch [90/100], Loss: 8.2499\n",
      "Epoch [100/100], Loss: 5.7599\n",
      "[0.00090684585, 0.0008229715, 0.0009053076]\n"
     ]
    },
    {
     "name": "stderr",
     "output_type": "stream",
     "text": [
      "c:\\ProgramData\\anaconda3\\Lib\\site-packages\\torch\\nn\\modules\\loss.py:535: UserWarning: Using a target size (torch.Size([3599, 1])) that is different to the input size (torch.Size([3599])). This will likely lead to incorrect results due to broadcasting. Please ensure they have the same size.\n",
      "  return F.mse_loss(input, target, reduction=self.reduction)\n"
     ]
    },
    {
     "name": "stdout",
     "output_type": "stream",
     "text": [
      "Epoch [10/100], Loss: 91.6495\n",
      "Epoch [20/100], Loss: 56.2950\n",
      "Epoch [30/100], Loss: 34.5676\n",
      "Epoch [40/100], Loss: 25.0275\n",
      "Epoch [50/100], Loss: 18.6238\n",
      "Epoch [60/100], Loss: 16.0346\n",
      "Epoch [70/100], Loss: 12.8945\n",
      "Epoch [80/100], Loss: 10.5793\n",
      "Epoch [90/100], Loss: 8.1623\n",
      "Epoch [100/100], Loss: 5.7392\n",
      "[0.00090684585, 0.0008229715, 0.0009053076, 0.00087438314]\n"
     ]
    },
    {
     "name": "stderr",
     "output_type": "stream",
     "text": [
      "c:\\ProgramData\\anaconda3\\Lib\\site-packages\\torch\\nn\\modules\\loss.py:535: UserWarning: Using a target size (torch.Size([3600, 1])) that is different to the input size (torch.Size([3600])). This will likely lead to incorrect results due to broadcasting. Please ensure they have the same size.\n",
      "  return F.mse_loss(input, target, reduction=self.reduction)\n"
     ]
    },
    {
     "name": "stdout",
     "output_type": "stream",
     "text": [
      "Epoch [10/100], Loss: 91.4561\n",
      "Epoch [20/100], Loss: 56.5504\n",
      "Epoch [30/100], Loss: 34.3183\n",
      "Epoch [40/100], Loss: 25.1233\n",
      "Epoch [50/100], Loss: 18.7094\n",
      "Epoch [60/100], Loss: 15.8663\n",
      "Epoch [70/100], Loss: 12.9587\n",
      "Epoch [80/100], Loss: 10.6664\n",
      "Epoch [90/100], Loss: 8.2341\n",
      "Epoch [100/100], Loss: 5.8703\n",
      "[0.00090684585, 0.0008229715, 0.0009053076, 0.00087438314, 0.00090389664]\n",
      "Testing lambda = 0.8\n"
     ]
    },
    {
     "name": "stderr",
     "output_type": "stream",
     "text": [
      "c:\\ProgramData\\anaconda3\\Lib\\site-packages\\torch\\nn\\modules\\loss.py:535: UserWarning: Using a target size (torch.Size([3599, 1])) that is different to the input size (torch.Size([3599])). This will likely lead to incorrect results due to broadcasting. Please ensure they have the same size.\n",
      "  return F.mse_loss(input, target, reduction=self.reduction)\n"
     ]
    },
    {
     "name": "stdout",
     "output_type": "stream",
     "text": [
      "Epoch [10/100], Loss: 101.7560\n",
      "Epoch [20/100], Loss: 63.2653\n",
      "Epoch [30/100], Loss: 39.1874\n",
      "Epoch [40/100], Loss: 28.4823\n",
      "Epoch [50/100], Loss: 21.3537\n",
      "Epoch [60/100], Loss: 18.2367\n",
      "Epoch [70/100], Loss: 14.7973\n",
      "Epoch [80/100], Loss: 12.2017\n",
      "Epoch [90/100], Loss: 9.4275\n",
      "Epoch [100/100], Loss: 6.7583\n",
      "[0.00090700015]\n"
     ]
    },
    {
     "name": "stderr",
     "output_type": "stream",
     "text": [
      "c:\\ProgramData\\anaconda3\\Lib\\site-packages\\torch\\nn\\modules\\loss.py:535: UserWarning: Using a target size (torch.Size([3599, 1])) that is different to the input size (torch.Size([3599])). This will likely lead to incorrect results due to broadcasting. Please ensure they have the same size.\n",
      "  return F.mse_loss(input, target, reduction=self.reduction)\n"
     ]
    },
    {
     "name": "stdout",
     "output_type": "stream",
     "text": [
      "Epoch [10/100], Loss: 104.3459\n",
      "Epoch [20/100], Loss: 64.7821\n",
      "Epoch [30/100], Loss: 39.3309\n",
      "Epoch [40/100], Loss: 28.5248\n",
      "Epoch [50/100], Loss: 21.3263\n",
      "Epoch [60/100], Loss: 18.2690\n",
      "Epoch [70/100], Loss: 14.8390\n",
      "Epoch [80/100], Loss: 12.1277\n",
      "Epoch [90/100], Loss: 9.4180\n",
      "Epoch [100/100], Loss: 6.7361\n",
      "[0.00090700015, 0.0008429237]\n"
     ]
    },
    {
     "name": "stderr",
     "output_type": "stream",
     "text": [
      "c:\\ProgramData\\anaconda3\\Lib\\site-packages\\torch\\nn\\modules\\loss.py:535: UserWarning: Using a target size (torch.Size([3599, 1])) that is different to the input size (torch.Size([3599])). This will likely lead to incorrect results due to broadcasting. Please ensure they have the same size.\n",
      "  return F.mse_loss(input, target, reduction=self.reduction)\n"
     ]
    },
    {
     "name": "stdout",
     "output_type": "stream",
     "text": [
      "Epoch [10/100], Loss: 104.9837\n",
      "Epoch [20/100], Loss: 64.6912\n",
      "Epoch [30/100], Loss: 39.6638\n",
      "Epoch [40/100], Loss: 28.8382\n",
      "Epoch [50/100], Loss: 21.2867\n",
      "Epoch [60/100], Loss: 18.4215\n",
      "Epoch [70/100], Loss: 14.8088\n",
      "Epoch [80/100], Loss: 12.1941\n",
      "Epoch [90/100], Loss: 9.3309\n",
      "Epoch [100/100], Loss: 6.6898\n",
      "[0.00090700015, 0.0008429237, 0.0009050521]\n"
     ]
    },
    {
     "name": "stderr",
     "output_type": "stream",
     "text": [
      "c:\\ProgramData\\anaconda3\\Lib\\site-packages\\torch\\nn\\modules\\loss.py:535: UserWarning: Using a target size (torch.Size([3599, 1])) that is different to the input size (torch.Size([3599])). This will likely lead to incorrect results due to broadcasting. Please ensure they have the same size.\n",
      "  return F.mse_loss(input, target, reduction=self.reduction)\n"
     ]
    },
    {
     "name": "stdout",
     "output_type": "stream",
     "text": [
      "Epoch [10/100], Loss: 104.2284\n",
      "Epoch [20/100], Loss: 63.9477\n",
      "Epoch [30/100], Loss: 39.4953\n",
      "Epoch [40/100], Loss: 28.6329\n",
      "Epoch [50/100], Loss: 21.4199\n",
      "Epoch [60/100], Loss: 18.3193\n",
      "Epoch [70/100], Loss: 14.8483\n",
      "Epoch [80/100], Loss: 12.1113\n",
      "Epoch [90/100], Loss: 9.3889\n",
      "Epoch [100/100], Loss: 6.5839\n",
      "[0.00090700015, 0.0008429237, 0.0009050521, 0.00087073643]\n"
     ]
    },
    {
     "name": "stderr",
     "output_type": "stream",
     "text": [
      "c:\\ProgramData\\anaconda3\\Lib\\site-packages\\torch\\nn\\modules\\loss.py:535: UserWarning: Using a target size (torch.Size([3600, 1])) that is different to the input size (torch.Size([3600])). This will likely lead to incorrect results due to broadcasting. Please ensure they have the same size.\n",
      "  return F.mse_loss(input, target, reduction=self.reduction)\n"
     ]
    },
    {
     "name": "stdout",
     "output_type": "stream",
     "text": [
      "Epoch [10/100], Loss: 104.5872\n",
      "Epoch [20/100], Loss: 64.1989\n",
      "Epoch [30/100], Loss: 39.1968\n",
      "Epoch [40/100], Loss: 28.6998\n",
      "Epoch [50/100], Loss: 21.2441\n",
      "Epoch [60/100], Loss: 18.2965\n",
      "Epoch [70/100], Loss: 14.8452\n",
      "Epoch [80/100], Loss: 12.2137\n",
      "Epoch [90/100], Loss: 9.3717\n",
      "Epoch [100/100], Loss: 6.6747\n",
      "[0.00090700015, 0.0008429237, 0.0009050521, 0.00087073643, 0.00090993213]\n",
      "Testing lambda = 0.9\n"
     ]
    },
    {
     "name": "stderr",
     "output_type": "stream",
     "text": [
      "c:\\ProgramData\\anaconda3\\Lib\\site-packages\\torch\\nn\\modules\\loss.py:535: UserWarning: Using a target size (torch.Size([3599, 1])) that is different to the input size (torch.Size([3599])). This will likely lead to incorrect results due to broadcasting. Please ensure they have the same size.\n",
      "  return F.mse_loss(input, target, reduction=self.reduction)\n"
     ]
    },
    {
     "name": "stdout",
     "output_type": "stream",
     "text": [
      "Epoch [10/100], Loss: 116.5281\n",
      "Epoch [20/100], Loss: 72.2634\n",
      "Epoch [30/100], Loss: 44.3796\n",
      "Epoch [40/100], Loss: 32.1653\n",
      "Epoch [50/100], Loss: 24.1231\n",
      "Epoch [60/100], Loss: 20.5884\n",
      "Epoch [70/100], Loss: 16.7930\n",
      "Epoch [80/100], Loss: 13.7427\n",
      "Epoch [90/100], Loss: 10.5440\n",
      "Epoch [100/100], Loss: 7.6483\n",
      "[0.0009071795]\n"
     ]
    },
    {
     "name": "stderr",
     "output_type": "stream",
     "text": [
      "c:\\ProgramData\\anaconda3\\Lib\\site-packages\\torch\\nn\\modules\\loss.py:535: UserWarning: Using a target size (torch.Size([3599, 1])) that is different to the input size (torch.Size([3599])). This will likely lead to incorrect results due to broadcasting. Please ensure they have the same size.\n",
      "  return F.mse_loss(input, target, reduction=self.reduction)\n"
     ]
    },
    {
     "name": "stdout",
     "output_type": "stream",
     "text": [
      "Epoch [10/100], Loss: 115.7104\n",
      "Epoch [20/100], Loss: 72.6735\n",
      "Epoch [30/100], Loss: 44.3430\n",
      "Epoch [40/100], Loss: 32.2737\n",
      "Epoch [50/100], Loss: 24.0008\n",
      "Epoch [60/100], Loss: 20.4099\n",
      "Epoch [70/100], Loss: 16.6420\n",
      "Epoch [80/100], Loss: 13.7083\n",
      "Epoch [90/100], Loss: 10.5043\n",
      "Epoch [100/100], Loss: 7.5558\n",
      "[0.0009071795, 0.00082559267]\n"
     ]
    },
    {
     "name": "stderr",
     "output_type": "stream",
     "text": [
      "c:\\ProgramData\\anaconda3\\Lib\\site-packages\\torch\\nn\\modules\\loss.py:535: UserWarning: Using a target size (torch.Size([3599, 1])) that is different to the input size (torch.Size([3599])). This will likely lead to incorrect results due to broadcasting. Please ensure they have the same size.\n",
      "  return F.mse_loss(input, target, reduction=self.reduction)\n"
     ]
    },
    {
     "name": "stdout",
     "output_type": "stream",
     "text": [
      "Epoch [10/100], Loss: 116.3146\n",
      "Epoch [20/100], Loss: 72.1778\n",
      "Epoch [30/100], Loss: 44.6275\n",
      "Epoch [40/100], Loss: 32.2098\n",
      "Epoch [50/100], Loss: 24.0463\n",
      "Epoch [60/100], Loss: 20.7005\n",
      "Epoch [70/100], Loss: 16.8186\n",
      "Epoch [80/100], Loss: 13.7802\n",
      "Epoch [90/100], Loss: 10.7262\n",
      "Epoch [100/100], Loss: 7.6078\n",
      "[0.0009071795, 0.00082559267, 0.00090478995]\n"
     ]
    },
    {
     "name": "stderr",
     "output_type": "stream",
     "text": [
      "c:\\ProgramData\\anaconda3\\Lib\\site-packages\\torch\\nn\\modules\\loss.py:535: UserWarning: Using a target size (torch.Size([3599, 1])) that is different to the input size (torch.Size([3599])). This will likely lead to incorrect results due to broadcasting. Please ensure they have the same size.\n",
      "  return F.mse_loss(input, target, reduction=self.reduction)\n"
     ]
    },
    {
     "name": "stdout",
     "output_type": "stream",
     "text": [
      "Epoch [10/100], Loss: 117.0796\n",
      "Epoch [20/100], Loss: 72.8696\n",
      "Epoch [30/100], Loss: 44.6764\n",
      "Epoch [40/100], Loss: 32.5683\n",
      "Epoch [50/100], Loss: 24.0008\n",
      "Epoch [60/100], Loss: 20.5783\n",
      "Epoch [70/100], Loss: 16.7948\n",
      "Epoch [80/100], Loss: 13.5702\n",
      "Epoch [90/100], Loss: 10.5734\n",
      "Epoch [100/100], Loss: 7.5958\n",
      "[0.0009071795, 0.00082559267, 0.00090478995, 0.00087049045]\n"
     ]
    },
    {
     "name": "stderr",
     "output_type": "stream",
     "text": [
      "c:\\ProgramData\\anaconda3\\Lib\\site-packages\\torch\\nn\\modules\\loss.py:535: UserWarning: Using a target size (torch.Size([3600, 1])) that is different to the input size (torch.Size([3600])). This will likely lead to incorrect results due to broadcasting. Please ensure they have the same size.\n",
      "  return F.mse_loss(input, target, reduction=self.reduction)\n"
     ]
    },
    {
     "name": "stdout",
     "output_type": "stream",
     "text": [
      "Epoch [10/100], Loss: 115.5990\n",
      "Epoch [20/100], Loss: 72.0270\n",
      "Epoch [30/100], Loss: 44.2687\n",
      "Epoch [40/100], Loss: 32.2415\n",
      "Epoch [50/100], Loss: 24.0424\n",
      "Epoch [60/100], Loss: 20.6002\n",
      "Epoch [70/100], Loss: 16.7401\n",
      "Epoch [80/100], Loss: 13.5990\n",
      "Epoch [90/100], Loss: 10.5894\n",
      "Epoch [100/100], Loss: 7.4760\n",
      "[0.0009071795, 0.00082559267, 0.00090478995, 0.00087049045, 0.00090876676]\n",
      "Testing lambda = 1.0\n"
     ]
    },
    {
     "name": "stderr",
     "output_type": "stream",
     "text": [
      "c:\\ProgramData\\anaconda3\\Lib\\site-packages\\torch\\nn\\modules\\loss.py:535: UserWarning: Using a target size (torch.Size([3599, 1])) that is different to the input size (torch.Size([3599])). This will likely lead to incorrect results due to broadcasting. Please ensure they have the same size.\n",
      "  return F.mse_loss(input, target, reduction=self.reduction)\n"
     ]
    },
    {
     "name": "stdout",
     "output_type": "stream",
     "text": [
      "Epoch [10/100], Loss: 128.7944\n",
      "Epoch [20/100], Loss: 80.2498\n",
      "Epoch [30/100], Loss: 49.3302\n",
      "Epoch [40/100], Loss: 35.4721\n",
      "Epoch [50/100], Loss: 26.7898\n",
      "Epoch [60/100], Loss: 22.9413\n",
      "Epoch [70/100], Loss: 18.6363\n",
      "Epoch [80/100], Loss: 15.3020\n",
      "Epoch [90/100], Loss: 11.8739\n",
      "Epoch [100/100], Loss: 8.3990\n",
      "[0.0009082476]\n"
     ]
    },
    {
     "name": "stderr",
     "output_type": "stream",
     "text": [
      "c:\\ProgramData\\anaconda3\\Lib\\site-packages\\torch\\nn\\modules\\loss.py:535: UserWarning: Using a target size (torch.Size([3599, 1])) that is different to the input size (torch.Size([3599])). This will likely lead to incorrect results due to broadcasting. Please ensure they have the same size.\n",
      "  return F.mse_loss(input, target, reduction=self.reduction)\n"
     ]
    },
    {
     "name": "stdout",
     "output_type": "stream",
     "text": [
      "Epoch [10/100], Loss: 129.3957\n",
      "Epoch [20/100], Loss: 80.5891\n",
      "Epoch [30/100], Loss: 49.4916\n",
      "Epoch [40/100], Loss: 35.6376\n",
      "Epoch [50/100], Loss: 26.6972\n",
      "Epoch [60/100], Loss: 22.9082\n",
      "Epoch [70/100], Loss: 18.5803\n",
      "Epoch [80/100], Loss: 15.0973\n",
      "Epoch [90/100], Loss: 11.8872\n",
      "Epoch [100/100], Loss: 8.3742\n",
      "[0.0009082476, 0.0008280192]\n"
     ]
    },
    {
     "name": "stderr",
     "output_type": "stream",
     "text": [
      "c:\\ProgramData\\anaconda3\\Lib\\site-packages\\torch\\nn\\modules\\loss.py:535: UserWarning: Using a target size (torch.Size([3599, 1])) that is different to the input size (torch.Size([3599])). This will likely lead to incorrect results due to broadcasting. Please ensure they have the same size.\n",
      "  return F.mse_loss(input, target, reduction=self.reduction)\n"
     ]
    },
    {
     "name": "stdout",
     "output_type": "stream",
     "text": [
      "Epoch [10/100], Loss: 128.3208\n",
      "Epoch [20/100], Loss: 79.7457\n",
      "Epoch [30/100], Loss: 49.1128\n",
      "Epoch [40/100], Loss: 35.3571\n",
      "Epoch [50/100], Loss: 26.6991\n",
      "Epoch [60/100], Loss: 23.1323\n",
      "Epoch [70/100], Loss: 18.5131\n",
      "Epoch [80/100], Loss: 15.1932\n",
      "Epoch [90/100], Loss: 11.8503\n",
      "Epoch [100/100], Loss: 8.4807\n",
      "[0.0009082476, 0.0008280192, 0.0009105166]\n"
     ]
    },
    {
     "name": "stderr",
     "output_type": "stream",
     "text": [
      "c:\\ProgramData\\anaconda3\\Lib\\site-packages\\torch\\nn\\modules\\loss.py:535: UserWarning: Using a target size (torch.Size([3599, 1])) that is different to the input size (torch.Size([3599])). This will likely lead to incorrect results due to broadcasting. Please ensure they have the same size.\n",
      "  return F.mse_loss(input, target, reduction=self.reduction)\n"
     ]
    },
    {
     "name": "stdout",
     "output_type": "stream",
     "text": [
      "Epoch [10/100], Loss: 130.2654\n",
      "Epoch [20/100], Loss: 80.4717\n",
      "Epoch [30/100], Loss: 49.1964\n",
      "Epoch [40/100], Loss: 35.4400\n",
      "Epoch [50/100], Loss: 26.8513\n",
      "Epoch [60/100], Loss: 22.9836\n",
      "Epoch [70/100], Loss: 18.8275\n",
      "Epoch [80/100], Loss: 15.1824\n",
      "Epoch [90/100], Loss: 11.8125\n",
      "Epoch [100/100], Loss: 8.5900\n",
      "[0.0009082476, 0.0008280192, 0.0009105166, 0.00087101426]\n"
     ]
    },
    {
     "name": "stderr",
     "output_type": "stream",
     "text": [
      "c:\\ProgramData\\anaconda3\\Lib\\site-packages\\torch\\nn\\modules\\loss.py:535: UserWarning: Using a target size (torch.Size([3600, 1])) that is different to the input size (torch.Size([3600])). This will likely lead to incorrect results due to broadcasting. Please ensure they have the same size.\n",
      "  return F.mse_loss(input, target, reduction=self.reduction)\n"
     ]
    },
    {
     "name": "stdout",
     "output_type": "stream",
     "text": [
      "Epoch [10/100], Loss: 129.2366\n",
      "Epoch [20/100], Loss: 80.2568\n",
      "Epoch [30/100], Loss: 49.4154\n",
      "Epoch [40/100], Loss: 35.9788\n",
      "Epoch [50/100], Loss: 26.7595\n",
      "Epoch [60/100], Loss: 23.0262\n",
      "Epoch [70/100], Loss: 18.6365\n",
      "Epoch [80/100], Loss: 15.2840\n",
      "Epoch [90/100], Loss: 11.9684\n",
      "Epoch [100/100], Loss: 8.4706\n",
      "[0.0009082476, 0.0008280192, 0.0009105166, 0.00087101426, 0.0009052238]\n",
      "Testing lambda = 100.0\n"
     ]
    },
    {
     "name": "stderr",
     "output_type": "stream",
     "text": [
      "c:\\ProgramData\\anaconda3\\Lib\\site-packages\\torch\\nn\\modules\\loss.py:535: UserWarning: Using a target size (torch.Size([3599, 1])) that is different to the input size (torch.Size([3599])). This will likely lead to incorrect results due to broadcasting. Please ensure they have the same size.\n",
      "  return F.mse_loss(input, target, reduction=self.reduction)\n"
     ]
    },
    {
     "name": "stdout",
     "output_type": "stream",
     "text": [
      "Epoch [10/100], Loss: 12941.8926\n",
      "Epoch [20/100], Loss: 8051.0073\n",
      "Epoch [30/100], Loss: 4950.8135\n",
      "Epoch [40/100], Loss: 3566.8428\n",
      "Epoch [50/100], Loss: 2671.8767\n",
      "Epoch [60/100], Loss: 2284.5757\n",
      "Epoch [70/100], Loss: 1860.3171\n",
      "Epoch [80/100], Loss: 1521.4446\n",
      "Epoch [90/100], Loss: 1168.3918\n",
      "Epoch [100/100], Loss: 835.7473\n",
      "[0.00092206703]\n"
     ]
    },
    {
     "name": "stderr",
     "output_type": "stream",
     "text": [
      "c:\\ProgramData\\anaconda3\\Lib\\site-packages\\torch\\nn\\modules\\loss.py:535: UserWarning: Using a target size (torch.Size([3599, 1])) that is different to the input size (torch.Size([3599])). This will likely lead to incorrect results due to broadcasting. Please ensure they have the same size.\n",
      "  return F.mse_loss(input, target, reduction=self.reduction)\n"
     ]
    },
    {
     "name": "stdout",
     "output_type": "stream",
     "text": [
      "Epoch [10/100], Loss: 12791.5293\n",
      "Epoch [20/100], Loss: 7999.4336\n",
      "Epoch [30/100], Loss: 4947.5981\n",
      "Epoch [40/100], Loss: 3597.5996\n",
      "Epoch [50/100], Loss: 2669.4272\n",
      "Epoch [60/100], Loss: 2293.5757\n",
      "Epoch [70/100], Loss: 1852.8142\n",
      "Epoch [80/100], Loss: 1544.6632\n",
      "Epoch [90/100], Loss: 1164.6757\n",
      "Epoch [100/100], Loss: 849.7527\n",
      "[0.00092206703, 0.000826728]\n"
     ]
    },
    {
     "name": "stderr",
     "output_type": "stream",
     "text": [
      "c:\\ProgramData\\anaconda3\\Lib\\site-packages\\torch\\nn\\modules\\loss.py:535: UserWarning: Using a target size (torch.Size([3599, 1])) that is different to the input size (torch.Size([3599])). This will likely lead to incorrect results due to broadcasting. Please ensure they have the same size.\n",
      "  return F.mse_loss(input, target, reduction=self.reduction)\n"
     ]
    },
    {
     "name": "stdout",
     "output_type": "stream",
     "text": [
      "Epoch [10/100], Loss: 13046.4961\n",
      "Epoch [20/100], Loss: 8046.4131\n",
      "Epoch [30/100], Loss: 4958.8799\n",
      "Epoch [40/100], Loss: 3581.7336\n",
      "Epoch [50/100], Loss: 2680.3372\n",
      "Epoch [60/100], Loss: 2284.8003\n",
      "Epoch [70/100], Loss: 1862.5457\n",
      "Epoch [80/100], Loss: 1520.2939\n",
      "Epoch [90/100], Loss: 1187.6050\n",
      "Epoch [100/100], Loss: 838.5717\n",
      "[0.00092206703, 0.000826728, 0.0009057119]\n"
     ]
    },
    {
     "name": "stderr",
     "output_type": "stream",
     "text": [
      "c:\\ProgramData\\anaconda3\\Lib\\site-packages\\torch\\nn\\modules\\loss.py:535: UserWarning: Using a target size (torch.Size([3599, 1])) that is different to the input size (torch.Size([3599])). This will likely lead to incorrect results due to broadcasting. Please ensure they have the same size.\n",
      "  return F.mse_loss(input, target, reduction=self.reduction)\n"
     ]
    },
    {
     "name": "stdout",
     "output_type": "stream",
     "text": [
      "Epoch [10/100], Loss: 13221.8164\n",
      "Epoch [20/100], Loss: 8164.1055\n",
      "Epoch [30/100], Loss: 4992.9072\n",
      "Epoch [40/100], Loss: 3597.8689\n",
      "Epoch [50/100], Loss: 2689.2871\n",
      "Epoch [60/100], Loss: 2313.8359\n",
      "Epoch [70/100], Loss: 1853.7678\n",
      "Epoch [80/100], Loss: 1529.5079\n",
      "Epoch [90/100], Loss: 1185.6416\n",
      "Epoch [100/100], Loss: 837.9030\n",
      "[0.00092206703, 0.000826728, 0.0009057119, 0.0008744183]\n"
     ]
    },
    {
     "name": "stderr",
     "output_type": "stream",
     "text": [
      "c:\\ProgramData\\anaconda3\\Lib\\site-packages\\torch\\nn\\modules\\loss.py:535: UserWarning: Using a target size (torch.Size([3600, 1])) that is different to the input size (torch.Size([3600])). This will likely lead to incorrect results due to broadcasting. Please ensure they have the same size.\n",
      "  return F.mse_loss(input, target, reduction=self.reduction)\n"
     ]
    },
    {
     "name": "stdout",
     "output_type": "stream",
     "text": [
      "Epoch [10/100], Loss: 12972.8818\n",
      "Epoch [20/100], Loss: 8067.7827\n",
      "Epoch [30/100], Loss: 4966.1426\n",
      "Epoch [40/100], Loss: 3588.3425\n",
      "Epoch [50/100], Loss: 2670.4434\n",
      "Epoch [60/100], Loss: 2284.8818\n",
      "Epoch [70/100], Loss: 1860.8356\n",
      "Epoch [80/100], Loss: 1525.1628\n",
      "Epoch [90/100], Loss: 1173.9363\n",
      "Epoch [100/100], Loss: 835.1130\n",
      "[0.00092206703, 0.000826728, 0.0009057119, 0.0008744183, 0.00090827903]\n",
      "Optimal lambda: 0.30000000000000004\n"
     ]
    },
    {
     "name": "stderr",
     "output_type": "stream",
     "text": [
      "c:\\ProgramData\\anaconda3\\Lib\\site-packages\\torch\\nn\\modules\\loss.py:535: UserWarning: Using a target size (torch.Size([4499, 1])) that is different to the input size (torch.Size([4499, 32])). This will likely lead to incorrect results due to broadcasting. Please ensure they have the same size.\n",
      "  return F.mse_loss(input, target, reduction=self.reduction)\n"
     ]
    },
    {
     "name": "stdout",
     "output_type": "stream",
     "text": [
      "Epoch [10/100], Loss: 45.6526\n",
      "Epoch [20/100], Loss: 28.6054\n",
      "Epoch [30/100], Loss: 17.1612\n",
      "Epoch [40/100], Loss: 12.0642\n",
      "Epoch [50/100], Loss: 8.9810\n",
      "Epoch [60/100], Loss: 7.7944\n",
      "Epoch [70/100], Loss: 6.4083\n",
      "Epoch [80/100], Loss: 5.3718\n",
      "Epoch [90/100], Loss: 4.3498\n",
      "Epoch [100/100], Loss: 3.2773\n",
      "Final β values: [9.5181167e-07 9.5181167e-07 9.5181167e-07 9.5181167e-07 9.5181167e-07\n",
      " 9.5181167e-07 9.5181167e-07 9.5181167e-07 9.5181167e-07 9.5181167e-07\n",
      " 9.5181167e-07 9.5181167e-07 9.5181167e-07 9.5181167e-07 9.5181167e-07\n",
      " 9.5181167e-07 9.5181167e-07 9.5181167e-07 9.5181167e-07 9.5181167e-07\n",
      " 9.5181167e-07 9.5181167e-07 9.5181167e-07 9.5181167e-07 9.5181167e-07\n",
      " 9.5181167e-07 9.5181167e-07 9.5181167e-07 9.5181167e-07 9.5181167e-07\n",
      " 9.5181167e-07 9.5181167e-07]\n"
     ]
    }
   ],
   "source": [
    "print(\"Training the LASSO-MLP algorithm...\")\n",
    "model, final_beta = lasso_mlp_algorithm(x_embeddings, y_embeddings, output_dim=1)\n",
    "\n",
    "print(\"Final β values:\", final_beta)"
   ]
  },
  {
   "cell_type": "code",
   "execution_count": 12,
   "metadata": {},
   "outputs": [
    {
     "data": {
      "image/png": "[encoded data removed]",
      "text/plain": [
       "<Figure size 640x480 with 2 Axes>"
      ]
     },
     "metadata": {},
     "output_type": "display_data"
    }
   ],
   "source": [
    "# correlation matrix\n",
    "import seaborn as sns\n",
    "import matplotlib.pyplot as plt\n",
    "\n",
    "correlation_matrix = np.corrcoef(x_embeddings.detach().cpu().numpy(), rowvar=False)\n",
    "sns.heatmap(correlation_matrix, cmap=\"coolwarm\")\n",
    "plt.show()"
   ]
  },
  {
   "cell_type": "code",
   "execution_count": null,
   "metadata": {},
   "outputs": [],
   "source": []
  }
 ],
 "metadata": {
  "kernelspec": {
   "display_name": "base",
   "language": "python",
   "name": "python3"
  },
  "language_info": {
   "codemirror_mode": {
    "name": "ipython",
    "version": 3
   },
   "file_extension": ".py",
   "mimetype": "text/x-python",
   "name": "python",
   "nbconvert_exporter": "python",
   "pygments_lexer": "ipython3",
   "version": "3.11.7"
  }
 },
 "nbformat": 4,
 "nbformat_minor": 2
}
